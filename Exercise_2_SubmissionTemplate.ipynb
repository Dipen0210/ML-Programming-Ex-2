{
  "cells": [
    {
      "cell_type": "markdown",
      "metadata": {
        "id": "DAO8AZsc266y"
      },
      "source": [
        "# Dipen Natvarbhai Prajapati\n",
        "# Programming Exercise \\#2\n",
        "---"
      ]
    },
    {
      "cell_type": "markdown",
      "metadata": {
        "id": "rJOtXeNg38_u"
      },
      "source": [
        "# Preamble"
      ]
    },
    {
      "cell_type": "code",
      "execution_count": 107,
      "metadata": {
        "id": "Ldu0WSDK4IjA"
      },
      "outputs": [
        {
          "name": "stderr",
          "output_type": "stream",
          "text": [
            "<>:4: SyntaxWarning: invalid escape sequence '\\ '\n",
            "<>:4: SyntaxWarning: invalid escape sequence '\\ '\n",
            "C:\\Users\\Dipen\\AppData\\Local\\Temp\\ipykernel_14716\\3524984580.py:4: SyntaxWarning: invalid escape sequence '\\ '\n",
            "  '''\n"
          ]
        },
        {
          "data": {
            "text/plain": [
              "\"\\n# mount Google Drive in Google Colab\\nfrom google.colab import drive\\ndrive.mount('/content/drive')\\n\\n# change directory using the magic command %cd\\n### replace [MY PATH] below with your own path in Google Drive ###\\n### %cd /content/drive/My\\\\ Drive/[MY PATH] ###\\n\""
            ]
          },
          "execution_count": 107,
          "metadata": {},
          "output_type": "execute_result"
        }
      ],
      "source": [
        "# optional code cell when using Google Colab with Google Drive\n",
        "\n",
        "# remove the docstring comment block below in order to mount Google Drive\n",
        "'''\n",
        "# mount Google Drive in Google Colab\n",
        "from google.colab import drive\n",
        "drive.mount('/content/drive')\n",
        "\n",
        "# change directory using the magic command %cd\n",
        "### replace [MY PATH] below with your own path in Google Drive ###\n",
        "### %cd /content/drive/My\\ Drive/[MY PATH] ###\n",
        "'''"
      ]
    },
    {
      "cell_type": "code",
      "execution_count": 119,
      "metadata": {
        "id": "rjUKWdVD_Eqh"
      },
      "outputs": [],
      "source": [
        "# import relevant Python libraries\n",
        "\n",
        "### Your import commands go here ###\n",
        "\n",
        "import numpy as np\n",
        "import pandas as pd\n",
        "from scipy import stats as sps\n",
        "from matplotlib import pyplot as plt\n",
        "from mpl_toolkits.mplot3d import Axes3D\n",
        "from IPython.display import display, Latex"
      ]
    },
    {
      "cell_type": "markdown",
      "metadata": {
        "id": "PeHo02TLz-hL"
      },
      "source": [
        "# **1. Feature Engineering for _Environmental Sensor Telemetry Data_**"
      ]
    },
    {
      "cell_type": "markdown",
      "metadata": {
        "id": "qmMHJttez-hM"
      },
      "source": [
        "## Problem 1.1"
      ]
    },
    {
      "cell_type": "code",
      "execution_count": 120,
      "metadata": {
        "id": "IgKSHxewsRdP"
      },
      "outputs": [
        {
          "data": {
            "text/html": [
              "<div>\n",
              "<style scoped>\n",
              "    .dataframe tbody tr th:only-of-type {\n",
              "        vertical-align: middle;\n",
              "    }\n",
              "\n",
              "    .dataframe tbody tr th {\n",
              "        vertical-align: top;\n",
              "    }\n",
              "\n",
              "    .dataframe thead th {\n",
              "        text-align: right;\n",
              "    }\n",
              "</style>\n",
              "<table border=\"1\" class=\"dataframe\">\n",
              "  <thead>\n",
              "    <tr style=\"text-align: right;\">\n",
              "      <th></th>\n",
              "      <th>ts</th>\n",
              "      <th>device</th>\n",
              "      <th>co</th>\n",
              "      <th>humidity</th>\n",
              "      <th>light</th>\n",
              "      <th>lpg</th>\n",
              "      <th>motion</th>\n",
              "      <th>smoke</th>\n",
              "      <th>temp</th>\n",
              "    </tr>\n",
              "  </thead>\n",
              "  <tbody>\n",
              "    <tr>\n",
              "      <th>0</th>\n",
              "      <td>1.594512e+09</td>\n",
              "      <td>b8:27:eb:bf:9d:51</td>\n",
              "      <td>0.004956</td>\n",
              "      <td>51.000000</td>\n",
              "      <td>False</td>\n",
              "      <td>0.007651</td>\n",
              "      <td>False</td>\n",
              "      <td>0.020411</td>\n",
              "      <td>22.700000</td>\n",
              "    </tr>\n",
              "    <tr>\n",
              "      <th>1</th>\n",
              "      <td>1.594512e+09</td>\n",
              "      <td>00:0f:00:70:91:0a</td>\n",
              "      <td>0.002840</td>\n",
              "      <td>76.000000</td>\n",
              "      <td>False</td>\n",
              "      <td>0.005114</td>\n",
              "      <td>False</td>\n",
              "      <td>0.013275</td>\n",
              "      <td>19.700001</td>\n",
              "    </tr>\n",
              "    <tr>\n",
              "      <th>2</th>\n",
              "      <td>1.594512e+09</td>\n",
              "      <td>b8:27:eb:bf:9d:51</td>\n",
              "      <td>0.004976</td>\n",
              "      <td>50.900000</td>\n",
              "      <td>False</td>\n",
              "      <td>0.007673</td>\n",
              "      <td>False</td>\n",
              "      <td>0.020475</td>\n",
              "      <td>22.600000</td>\n",
              "    </tr>\n",
              "    <tr>\n",
              "      <th>3</th>\n",
              "      <td>1.594512e+09</td>\n",
              "      <td>1c:bf:ce:15:ec:4d</td>\n",
              "      <td>0.004403</td>\n",
              "      <td>76.800003</td>\n",
              "      <td>True</td>\n",
              "      <td>0.007023</td>\n",
              "      <td>False</td>\n",
              "      <td>0.018628</td>\n",
              "      <td>27.000000</td>\n",
              "    </tr>\n",
              "    <tr>\n",
              "      <th>4</th>\n",
              "      <td>1.594512e+09</td>\n",
              "      <td>b8:27:eb:bf:9d:51</td>\n",
              "      <td>0.004967</td>\n",
              "      <td>50.900000</td>\n",
              "      <td>False</td>\n",
              "      <td>0.007664</td>\n",
              "      <td>False</td>\n",
              "      <td>0.020448</td>\n",
              "      <td>22.600000</td>\n",
              "    </tr>\n",
              "  </tbody>\n",
              "</table>\n",
              "</div>"
            ],
            "text/plain": [
              "             ts             device        co   humidity  light       lpg  \\\n",
              "0  1.594512e+09  b8:27:eb:bf:9d:51  0.004956  51.000000  False  0.007651   \n",
              "1  1.594512e+09  00:0f:00:70:91:0a  0.002840  76.000000  False  0.005114   \n",
              "2  1.594512e+09  b8:27:eb:bf:9d:51  0.004976  50.900000  False  0.007673   \n",
              "3  1.594512e+09  1c:bf:ce:15:ec:4d  0.004403  76.800003   True  0.007023   \n",
              "4  1.594512e+09  b8:27:eb:bf:9d:51  0.004967  50.900000  False  0.007664   \n",
              "\n",
              "   motion     smoke       temp  \n",
              "0   False  0.020411  22.700000  \n",
              "1   False  0.013275  19.700001  \n",
              "2   False  0.020475  22.600000  \n",
              "3   False  0.018628  27.000000  \n",
              "4   False  0.020448  22.600000  "
            ]
          },
          "execution_count": 120,
          "metadata": {},
          "output_type": "execute_result"
        }
      ],
      "source": [
        "\n",
        "df = pd.read_csv('iot_telemetry_dataset.csv')\n",
        "\n",
        "df.head()\n"
      ]
    },
    {
      "cell_type": "markdown",
      "metadata": {
        "id": "EKQZRr9Dz-hN"
      },
      "source": [
        "### (a)"
      ]
    },
    {
      "cell_type": "markdown",
      "metadata": {
        "id": "9eH6uWf4z-hN"
      },
      "source": [
        "It is a supervised learning task."
      ]
    },
    {
      "cell_type": "markdown",
      "metadata": {
        "id": "77c-6U-_z-hO"
      },
      "source": [
        "### (b)"
      ]
    },
    {
      "cell_type": "code",
      "execution_count": 121,
      "metadata": {
        "id": "530SUQVjz-hP"
      },
      "outputs": [
        {
          "name": "stdout",
          "output_type": "stream",
          "text": [
            "number of samples:405184\n"
          ]
        }
      ],
      "source": [
        "\n",
        "samples = df.shape[0]\n",
        "print(f'number of samples:{samples}')"
      ]
    },
    {
      "cell_type": "markdown",
      "metadata": {
        "id": "_tMu1LVSz-hQ"
      },
      "source": [
        "### (c)\n",
        "\n"
      ]
    },
    {
      "cell_type": "code",
      "execution_count": 122,
      "metadata": {
        "id": "1D7twXbHz-hR"
      },
      "outputs": [
        {
          "name": "stdout",
          "output_type": "stream",
          "text": [
            "00:0f:00:70:91:0a associated samples: 111815\n"
          ]
        }
      ],
      "source": [
        "\n",
        "Address1 = df[df['device']=='00:0f:00:70:91:0a'].shape[0]\n",
        "print(f'00:0f:00:70:91:0a associated samples: {Address1}')"
      ]
    },
    {
      "cell_type": "markdown",
      "metadata": {
        "id": "kUKa9J6dz-hR"
      },
      "source": [
        "\n",
        "### (d)"
      ]
    },
    {
      "cell_type": "code",
      "execution_count": 123,
      "metadata": {
        "id": "2xNG_h3wz-hS"
      },
      "outputs": [
        {
          "name": "stdout",
          "output_type": "stream",
          "text": [
            "1c:bf:ce:15:ec:4d associated samples: 105918\n"
          ]
        }
      ],
      "source": [
        "\n",
        "Address2 = df[df['device']=='1c:bf:ce:15:ec:4d'].shape[0]\n",
        "print(f'1c:bf:ce:15:ec:4d associated samples: {Address2}')\n"
      ]
    },
    {
      "cell_type": "markdown",
      "metadata": {
        "id": "Jy00M5wcz-hS"
      },
      "source": [
        "### (e)"
      ]
    },
    {
      "cell_type": "code",
      "execution_count": 124,
      "metadata": {
        "id": "cvCXExa7TaTa"
      },
      "outputs": [
        {
          "name": "stdout",
          "output_type": "stream",
          "text": [
            "b8:27:eb:bf:9d:51 associated samples: 187451\n"
          ]
        }
      ],
      "source": [
        "\n",
        "Address3 = df[df['device']=='b8:27:eb:bf:9d:51'].shape[0]\n",
        "print(f'b8:27:eb:bf:9d:51 associated samples: {Address3}')"
      ]
    },
    {
      "cell_type": "markdown",
      "metadata": {
        "id": "nOJPywDYz-hT"
      },
      "source": [
        "## Problem 1.2"
      ]
    },
    {
      "cell_type": "markdown",
      "metadata": {
        "id": "UTf6Yiqjz-hT"
      },
      "source": [
        "### (a)"
      ]
    },
    {
      "cell_type": "code",
      "execution_count": 125,
      "metadata": {
        "id": "qOPVMIawz-hU"
      },
      "outputs": [
        {
          "data": {
            "image/png": "[encoded data removed]",
            "text/plain": [
              "<Figure size 1000x600 with 1 Axes>"
            ]
          },
          "metadata": {},
          "output_type": "display_data"
        },
        {
          "data": {
            "image/png": "[encoded data removed]",
            "text/plain": [
              "<Figure size 1000x600 with 1 Axes>"
            ]
          },
          "metadata": {},
          "output_type": "display_data"
        }
      ],
      "source": [
        "\n",
        "grouped_means = df.groupby('device')[['co', 'humidity', 'lpg', 'smoke', 'temp']].mean()\n",
        "grouped_variances = df.groupby('device')[['co', 'humidity', 'lpg', 'smoke', 'temp']].var()\n",
        "\n",
        "grouped_means.plot(kind='bar', figsize=(10,6))\n",
        "plt.title('Mean Values of CO, Humidity, LPG, Smoke, and Temp for Each Device')\n",
        "plt.ylabel('Mean Values')\n",
        "plt.xlabel('Device')\n",
        "plt.xticks(rotation=0)\n",
        "plt.legend(title='Sensor Variables')\n",
        "plt.show()\n",
        "\n",
        "\n",
        "grouped_variances.plot(kind='bar', figsize=(10,6))\n",
        "plt.title('Variance of CO, Humidity, LPG, Smoke, and Temp for Each Device')\n",
        "plt.ylabel('Variance')\n",
        "plt.xlabel('Device')\n",
        "plt.xticks(rotation=0)\n",
        "plt.legend(title='Sensor Variables')\n",
        "plt.show()\n"
      ]
    },
    {
      "cell_type": "markdown",
      "metadata": {
        "id": "baOjUglyTzY9"
      },
      "source": [
        "b8:27:eb:bf:9d:51 device is located around lowest humidity area compared to other devices but it has higher variance for humidity, implying that humidity changes more frequently around this device."
      ]
    },
    {
      "cell_type": "markdown",
      "metadata": {
        "id": "CrZQxH5hz-hU"
      },
      "source": [
        "### (b)"
      ]
    },
    {
      "cell_type": "code",
      "execution_count": 126,
      "metadata": {
        "id": "ESSjRnLCz-hU"
      },
      "outputs": [
        {
          "name": "stdout",
          "output_type": "stream",
          "text": [
            "                   device        co  humidity       lpg     smoke      temp\n",
            "0       b8:27:eb:bf:9d:51 -1.080793  0.098428 -1.093491 -1.091260  0.871610\n",
            "1       00:0f:00:70:91:0a -0.464451  0.281222 -0.458333 -0.460392  0.524162\n",
            "2       b8:27:eb:bf:9d:51 -1.044864  0.045488 -1.056107 -1.054137  0.664099\n",
            "3       1c:bf:ce:15:ec:4d  0.687051  1.664629  0.696248  0.694633  0.480890\n",
            "4       b8:27:eb:bf:9d:51 -1.060344  0.045488 -1.072209 -1.070127  0.664099\n",
            "...                   ...       ...       ...       ...       ...       ...\n",
            "405179  00:0f:00:70:91:0a  0.147282 -0.073063  0.207861  0.197069 -0.252493\n",
            "405180  b8:27:eb:bf:9d:51  0.577180 -1.225075  0.591201  0.588734 -0.165945\n",
            "405181  1c:bf:ce:15:ec:4d  1.115988  1.541651  1.119565  1.118965  0.283499\n",
            "405182  00:0f:00:70:91:0a  0.147282 -0.073063  0.207861  0.197069 -0.252493\n",
            "405183  b8:27:eb:bf:9d:51  0.634848 -1.278015  0.648416  0.646034 -0.165945\n",
            "\n",
            "[405184 rows x 6 columns]\n"
          ]
        }
      ],
      "source": [
        "\n",
        "devices = df['device'].unique()\n",
        "\n",
        "for device in devices:\n",
        "    mask = df['device'] == device\n",
        "    df.loc[mask, ['co', 'humidity', 'lpg', 'smoke', 'temp']] = ((df.loc[mask, ['co', 'humidity', 'lpg', 'smoke', 'temp']] - \n",
        "    df.loc[mask, ['co', 'humidity', 'lpg', 'smoke', 'temp']].mean())) / df.loc[mask, ['co', 'humidity', 'lpg', 'smoke', 'temp']].std()\n",
        "\n",
        "print(df[['device', 'co', 'humidity', 'lpg', 'smoke', 'temp']])\n",
        "\n"
      ]
    },
    {
      "cell_type": "markdown",
      "metadata": {
        "id": "hWh95Fiyz-hU"
      },
      "source": [
        "\n",
        "### (c)"
      ]
    },
    {
      "cell_type": "code",
      "execution_count": 127,
      "metadata": {
        "id": "VZ9EtxC-z-hV"
      },
      "outputs": [],
      "source": [
        "\n",
        "df_one_hot = pd.get_dummies(df, columns=['device', 'light', 'motion'])"
      ]
    },
    {
      "cell_type": "markdown",
      "metadata": {
        "id": "3IuMCu6vUBgz"
      },
      "source": [
        "### (d)"
      ]
    },
    {
      "cell_type": "code",
      "execution_count": 128,
      "metadata": {
        "id": "z8UHdRe1UCLr"
      },
      "outputs": [
        {
          "data": {
            "text/html": [
              "<div>\n",
              "<style scoped>\n",
              "    .dataframe tbody tr th:only-of-type {\n",
              "        vertical-align: middle;\n",
              "    }\n",
              "\n",
              "    .dataframe tbody tr th {\n",
              "        vertical-align: top;\n",
              "    }\n",
              "\n",
              "    .dataframe thead th {\n",
              "        text-align: right;\n",
              "    }\n",
              "</style>\n",
              "<table border=\"1\" class=\"dataframe\">\n",
              "  <thead>\n",
              "    <tr style=\"text-align: right;\">\n",
              "      <th></th>\n",
              "      <th>ts</th>\n",
              "      <th>co</th>\n",
              "      <th>humidity</th>\n",
              "      <th>lpg</th>\n",
              "      <th>smoke</th>\n",
              "      <th>temp</th>\n",
              "      <th>device_00:0f:00:70:91:0a</th>\n",
              "      <th>device_1c:bf:ce:15:ec:4d</th>\n",
              "      <th>device_b8:27:eb:bf:9d:51</th>\n",
              "      <th>light_False</th>\n",
              "      <th>light_True</th>\n",
              "      <th>motion_False</th>\n",
              "      <th>motion_True</th>\n",
              "    </tr>\n",
              "  </thead>\n",
              "  <tbody>\n",
              "    <tr>\n",
              "      <th>0</th>\n",
              "      <td>1.594512e+09</td>\n",
              "      <td>-1.080793</td>\n",
              "      <td>0.098428</td>\n",
              "      <td>-1.093491</td>\n",
              "      <td>-1.091260</td>\n",
              "      <td>0.871610</td>\n",
              "      <td>False</td>\n",
              "      <td>False</td>\n",
              "      <td>True</td>\n",
              "      <td>True</td>\n",
              "      <td>False</td>\n",
              "      <td>True</td>\n",
              "      <td>False</td>\n",
              "    </tr>\n",
              "    <tr>\n",
              "      <th>1</th>\n",
              "      <td>1.594512e+09</td>\n",
              "      <td>-0.464451</td>\n",
              "      <td>0.281222</td>\n",
              "      <td>-0.458333</td>\n",
              "      <td>-0.460392</td>\n",
              "      <td>0.524162</td>\n",
              "      <td>True</td>\n",
              "      <td>False</td>\n",
              "      <td>False</td>\n",
              "      <td>True</td>\n",
              "      <td>False</td>\n",
              "      <td>True</td>\n",
              "      <td>False</td>\n",
              "    </tr>\n",
              "    <tr>\n",
              "      <th>2</th>\n",
              "      <td>1.594512e+09</td>\n",
              "      <td>-1.044864</td>\n",
              "      <td>0.045488</td>\n",
              "      <td>-1.056107</td>\n",
              "      <td>-1.054137</td>\n",
              "      <td>0.664099</td>\n",
              "      <td>False</td>\n",
              "      <td>False</td>\n",
              "      <td>True</td>\n",
              "      <td>True</td>\n",
              "      <td>False</td>\n",
              "      <td>True</td>\n",
              "      <td>False</td>\n",
              "    </tr>\n",
              "    <tr>\n",
              "      <th>3</th>\n",
              "      <td>1.594512e+09</td>\n",
              "      <td>0.687051</td>\n",
              "      <td>1.664629</td>\n",
              "      <td>0.696248</td>\n",
              "      <td>0.694633</td>\n",
              "      <td>0.480890</td>\n",
              "      <td>False</td>\n",
              "      <td>True</td>\n",
              "      <td>False</td>\n",
              "      <td>False</td>\n",
              "      <td>True</td>\n",
              "      <td>True</td>\n",
              "      <td>False</td>\n",
              "    </tr>\n",
              "    <tr>\n",
              "      <th>4</th>\n",
              "      <td>1.594512e+09</td>\n",
              "      <td>-1.060344</td>\n",
              "      <td>0.045488</td>\n",
              "      <td>-1.072209</td>\n",
              "      <td>-1.070127</td>\n",
              "      <td>0.664099</td>\n",
              "      <td>False</td>\n",
              "      <td>False</td>\n",
              "      <td>True</td>\n",
              "      <td>True</td>\n",
              "      <td>False</td>\n",
              "      <td>True</td>\n",
              "      <td>False</td>\n",
              "    </tr>\n",
              "    <tr>\n",
              "      <th>5</th>\n",
              "      <td>1.594512e+09</td>\n",
              "      <td>0.649527</td>\n",
              "      <td>1.787605</td>\n",
              "      <td>0.659043</td>\n",
              "      <td>0.657370</td>\n",
              "      <td>0.480890</td>\n",
              "      <td>False</td>\n",
              "      <td>True</td>\n",
              "      <td>False</td>\n",
              "      <td>False</td>\n",
              "      <td>True</td>\n",
              "      <td>True</td>\n",
              "      <td>False</td>\n",
              "    </tr>\n",
              "    <tr>\n",
              "      <th>6</th>\n",
              "      <td>1.594512e+09</td>\n",
              "      <td>-1.044841</td>\n",
              "      <td>0.045488</td>\n",
              "      <td>-1.056083</td>\n",
              "      <td>-1.054113</td>\n",
              "      <td>0.664099</td>\n",
              "      <td>False</td>\n",
              "      <td>False</td>\n",
              "      <td>True</td>\n",
              "      <td>True</td>\n",
              "      <td>False</td>\n",
              "      <td>True</td>\n",
              "      <td>False</td>\n",
              "    </tr>\n",
              "    <tr>\n",
              "      <th>7</th>\n",
              "      <td>1.594512e+09</td>\n",
              "      <td>-0.398156</td>\n",
              "      <td>0.281222</td>\n",
              "      <td>-0.383561</td>\n",
              "      <td>-0.387058</td>\n",
              "      <td>0.524162</td>\n",
              "      <td>True</td>\n",
              "      <td>False</td>\n",
              "      <td>False</td>\n",
              "      <td>True</td>\n",
              "      <td>False</td>\n",
              "      <td>True</td>\n",
              "      <td>False</td>\n",
              "    </tr>\n",
              "    <tr>\n",
              "      <th>8</th>\n",
              "      <td>1.594512e+09</td>\n",
              "      <td>0.507419</td>\n",
              "      <td>1.787605</td>\n",
              "      <td>0.517887</td>\n",
              "      <td>0.516039</td>\n",
              "      <td>0.480890</td>\n",
              "      <td>False</td>\n",
              "      <td>True</td>\n",
              "      <td>False</td>\n",
              "      <td>False</td>\n",
              "      <td>True</td>\n",
              "      <td>True</td>\n",
              "      <td>False</td>\n",
              "    </tr>\n",
              "    <tr>\n",
              "      <th>9</th>\n",
              "      <td>1.594512e+09</td>\n",
              "      <td>-1.055167</td>\n",
              "      <td>0.045488</td>\n",
              "      <td>-1.066824</td>\n",
              "      <td>-1.064779</td>\n",
              "      <td>0.664099</td>\n",
              "      <td>False</td>\n",
              "      <td>False</td>\n",
              "      <td>True</td>\n",
              "      <td>True</td>\n",
              "      <td>False</td>\n",
              "      <td>True</td>\n",
              "      <td>False</td>\n",
              "    </tr>\n",
              "    <tr>\n",
              "      <th>10</th>\n",
              "      <td>1.594512e+09</td>\n",
              "      <td>-1.073150</td>\n",
              "      <td>0.045488</td>\n",
              "      <td>-1.085536</td>\n",
              "      <td>-1.083360</td>\n",
              "      <td>0.664099</td>\n",
              "      <td>False</td>\n",
              "      <td>False</td>\n",
              "      <td>True</td>\n",
              "      <td>True</td>\n",
              "      <td>False</td>\n",
              "      <td>True</td>\n",
              "      <td>False</td>\n",
              "    </tr>\n",
              "    <tr>\n",
              "      <th>11</th>\n",
              "      <td>1.594512e+09</td>\n",
              "      <td>0.624684</td>\n",
              "      <td>1.798784</td>\n",
              "      <td>0.634395</td>\n",
              "      <td>0.632686</td>\n",
              "      <td>0.480890</td>\n",
              "      <td>False</td>\n",
              "      <td>True</td>\n",
              "      <td>False</td>\n",
              "      <td>False</td>\n",
              "      <td>True</td>\n",
              "      <td>True</td>\n",
              "      <td>False</td>\n",
              "    </tr>\n",
              "    <tr>\n",
              "      <th>12</th>\n",
              "      <td>1.594512e+09</td>\n",
              "      <td>-1.052681</td>\n",
              "      <td>0.045488</td>\n",
              "      <td>-1.064237</td>\n",
              "      <td>-1.062210</td>\n",
              "      <td>0.664099</td>\n",
              "      <td>False</td>\n",
              "      <td>False</td>\n",
              "      <td>True</td>\n",
              "      <td>True</td>\n",
              "      <td>False</td>\n",
              "      <td>True</td>\n",
              "      <td>False</td>\n",
              "    </tr>\n",
              "    <tr>\n",
              "      <th>13</th>\n",
              "      <td>1.594512e+09</td>\n",
              "      <td>0.838329</td>\n",
              "      <td>1.798784</td>\n",
              "      <td>0.845955</td>\n",
              "      <td>0.844626</td>\n",
              "      <td>0.480890</td>\n",
              "      <td>False</td>\n",
              "      <td>True</td>\n",
              "      <td>False</td>\n",
              "      <td>False</td>\n",
              "      <td>True</td>\n",
              "      <td>True</td>\n",
              "      <td>False</td>\n",
              "    </tr>\n",
              "    <tr>\n",
              "      <th>14</th>\n",
              "      <td>1.594512e+09</td>\n",
              "      <td>-1.065354</td>\n",
              "      <td>0.045488</td>\n",
              "      <td>-1.077422</td>\n",
              "      <td>-1.075303</td>\n",
              "      <td>0.664099</td>\n",
              "      <td>False</td>\n",
              "      <td>False</td>\n",
              "      <td>True</td>\n",
              "      <td>True</td>\n",
              "      <td>False</td>\n",
              "      <td>True</td>\n",
              "      <td>False</td>\n",
              "    </tr>\n",
              "    <tr>\n",
              "      <th>15</th>\n",
              "      <td>1.594512e+09</td>\n",
              "      <td>-0.420542</td>\n",
              "      <td>0.179999</td>\n",
              "      <td>-0.408731</td>\n",
              "      <td>-0.411758</td>\n",
              "      <td>0.524162</td>\n",
              "      <td>True</td>\n",
              "      <td>False</td>\n",
              "      <td>False</td>\n",
              "      <td>True</td>\n",
              "      <td>False</td>\n",
              "      <td>True</td>\n",
              "      <td>False</td>\n",
              "    </tr>\n",
              "    <tr>\n",
              "      <th>16</th>\n",
              "      <td>1.594512e+09</td>\n",
              "      <td>-1.044916</td>\n",
              "      <td>0.045488</td>\n",
              "      <td>-1.056161</td>\n",
              "      <td>-1.054190</td>\n",
              "      <td>0.664099</td>\n",
              "      <td>False</td>\n",
              "      <td>False</td>\n",
              "      <td>True</td>\n",
              "      <td>True</td>\n",
              "      <td>False</td>\n",
              "      <td>True</td>\n",
              "      <td>False</td>\n",
              "    </tr>\n",
              "    <tr>\n",
              "      <th>17</th>\n",
              "      <td>1.594512e+09</td>\n",
              "      <td>-1.073150</td>\n",
              "      <td>0.045488</td>\n",
              "      <td>-1.085536</td>\n",
              "      <td>-1.083360</td>\n",
              "      <td>0.664099</td>\n",
              "      <td>False</td>\n",
              "      <td>False</td>\n",
              "      <td>True</td>\n",
              "      <td>True</td>\n",
              "      <td>False</td>\n",
              "      <td>True</td>\n",
              "      <td>False</td>\n",
              "    </tr>\n",
              "    <tr>\n",
              "      <th>18</th>\n",
              "      <td>1.594512e+09</td>\n",
              "      <td>0.800331</td>\n",
              "      <td>1.787605</td>\n",
              "      <td>0.808395</td>\n",
              "      <td>0.806986</td>\n",
              "      <td>0.480890</td>\n",
              "      <td>False</td>\n",
              "      <td>True</td>\n",
              "      <td>False</td>\n",
              "      <td>False</td>\n",
              "      <td>True</td>\n",
              "      <td>True</td>\n",
              "      <td>False</td>\n",
              "    </tr>\n",
              "    <tr>\n",
              "      <th>19</th>\n",
              "      <td>1.594512e+09</td>\n",
              "      <td>-1.080470</td>\n",
              "      <td>0.045488</td>\n",
              "      <td>-1.093155</td>\n",
              "      <td>-1.090925</td>\n",
              "      <td>0.664099</td>\n",
              "      <td>False</td>\n",
              "      <td>False</td>\n",
              "      <td>True</td>\n",
              "      <td>True</td>\n",
              "      <td>False</td>\n",
              "      <td>True</td>\n",
              "      <td>False</td>\n",
              "    </tr>\n",
              "  </tbody>\n",
              "</table>\n",
              "</div>"
            ],
            "text/plain": [
              "              ts        co  humidity       lpg     smoke      temp  \\\n",
              "0   1.594512e+09 -1.080793  0.098428 -1.093491 -1.091260  0.871610   \n",
              "1   1.594512e+09 -0.464451  0.281222 -0.458333 -0.460392  0.524162   \n",
              "2   1.594512e+09 -1.044864  0.045488 -1.056107 -1.054137  0.664099   \n",
              "3   1.594512e+09  0.687051  1.664629  0.696248  0.694633  0.480890   \n",
              "4   1.594512e+09 -1.060344  0.045488 -1.072209 -1.070127  0.664099   \n",
              "5   1.594512e+09  0.649527  1.787605  0.659043  0.657370  0.480890   \n",
              "6   1.594512e+09 -1.044841  0.045488 -1.056083 -1.054113  0.664099   \n",
              "7   1.594512e+09 -0.398156  0.281222 -0.383561 -0.387058  0.524162   \n",
              "8   1.594512e+09  0.507419  1.787605  0.517887  0.516039  0.480890   \n",
              "9   1.594512e+09 -1.055167  0.045488 -1.066824 -1.064779  0.664099   \n",
              "10  1.594512e+09 -1.073150  0.045488 -1.085536 -1.083360  0.664099   \n",
              "11  1.594512e+09  0.624684  1.798784  0.634395  0.632686  0.480890   \n",
              "12  1.594512e+09 -1.052681  0.045488 -1.064237 -1.062210  0.664099   \n",
              "13  1.594512e+09  0.838329  1.798784  0.845955  0.844626  0.480890   \n",
              "14  1.594512e+09 -1.065354  0.045488 -1.077422 -1.075303  0.664099   \n",
              "15  1.594512e+09 -0.420542  0.179999 -0.408731 -0.411758  0.524162   \n",
              "16  1.594512e+09 -1.044916  0.045488 -1.056161 -1.054190  0.664099   \n",
              "17  1.594512e+09 -1.073150  0.045488 -1.085536 -1.083360  0.664099   \n",
              "18  1.594512e+09  0.800331  1.787605  0.808395  0.806986  0.480890   \n",
              "19  1.594512e+09 -1.080470  0.045488 -1.093155 -1.090925  0.664099   \n",
              "\n",
              "    device_00:0f:00:70:91:0a  device_1c:bf:ce:15:ec:4d  \\\n",
              "0                      False                     False   \n",
              "1                       True                     False   \n",
              "2                      False                     False   \n",
              "3                      False                      True   \n",
              "4                      False                     False   \n",
              "5                      False                      True   \n",
              "6                      False                     False   \n",
              "7                       True                     False   \n",
              "8                      False                      True   \n",
              "9                      False                     False   \n",
              "10                     False                     False   \n",
              "11                     False                      True   \n",
              "12                     False                     False   \n",
              "13                     False                      True   \n",
              "14                     False                     False   \n",
              "15                      True                     False   \n",
              "16                     False                     False   \n",
              "17                     False                     False   \n",
              "18                     False                      True   \n",
              "19                     False                     False   \n",
              "\n",
              "    device_b8:27:eb:bf:9d:51  light_False  light_True  motion_False  \\\n",
              "0                       True         True       False          True   \n",
              "1                      False         True       False          True   \n",
              "2                       True         True       False          True   \n",
              "3                      False        False        True          True   \n",
              "4                       True         True       False          True   \n",
              "5                      False        False        True          True   \n",
              "6                       True         True       False          True   \n",
              "7                      False         True       False          True   \n",
              "8                      False        False        True          True   \n",
              "9                       True         True       False          True   \n",
              "10                      True         True       False          True   \n",
              "11                     False        False        True          True   \n",
              "12                      True         True       False          True   \n",
              "13                     False        False        True          True   \n",
              "14                      True         True       False          True   \n",
              "15                     False         True       False          True   \n",
              "16                      True         True       False          True   \n",
              "17                      True         True       False          True   \n",
              "18                     False        False        True          True   \n",
              "19                      True         True       False          True   \n",
              "\n",
              "    motion_True  \n",
              "0         False  \n",
              "1         False  \n",
              "2         False  \n",
              "3         False  \n",
              "4         False  \n",
              "5         False  \n",
              "6         False  \n",
              "7         False  \n",
              "8         False  \n",
              "9         False  \n",
              "10        False  \n",
              "11        False  \n",
              "12        False  \n",
              "13        False  \n",
              "14        False  \n",
              "15        False  \n",
              "16        False  \n",
              "17        False  \n",
              "18        False  \n",
              "19        False  "
            ]
          },
          "execution_count": 128,
          "metadata": {},
          "output_type": "execute_result"
        }
      ],
      "source": [
        "df_one_hot.head(20)"
      ]
    },
    {
      "cell_type": "markdown",
      "metadata": {
        "id": "zsOtgiVCUEfc"
      },
      "source": [
        "### (e)"
      ]
    },
    {
      "cell_type": "markdown",
      "metadata": {
        "id": "DR3FGIldUEPN"
      },
      "source": [
        "The ts represent timestemp variable. it is a continuous variable so it can't be categorised. it is already in its ideal format."
      ]
    },
    {
      "cell_type": "markdown",
      "metadata": {
        "id": "OYDjQvfFxnQw"
      },
      "source": [
        "## Problem 1.3"
      ]
    },
    {
      "cell_type": "code",
      "execution_count": 129,
      "metadata": {
        "id": "5YCLwVJuxrXG"
      },
      "outputs": [
        {
          "data": {
            "text/html": [
              "<div>\n",
              "<style scoped>\n",
              "    .dataframe tbody tr th:only-of-type {\n",
              "        vertical-align: middle;\n",
              "    }\n",
              "\n",
              "    .dataframe tbody tr th {\n",
              "        vertical-align: top;\n",
              "    }\n",
              "\n",
              "    .dataframe thead th {\n",
              "        text-align: right;\n",
              "    }\n",
              "</style>\n",
              "<table border=\"1\" class=\"dataframe\">\n",
              "  <thead>\n",
              "    <tr style=\"text-align: right;\">\n",
              "      <th></th>\n",
              "      <th>mean</th>\n",
              "      <th>geometric_mean</th>\n",
              "      <th>harmonic_mean</th>\n",
              "      <th>variance</th>\n",
              "      <th>kurtosis</th>\n",
              "      <th>skewness</th>\n",
              "    </tr>\n",
              "  </thead>\n",
              "  <tbody>\n",
              "    <tr>\n",
              "      <th>0</th>\n",
              "      <td>-0.459101</td>\n",
              "      <td>0.643851</td>\n",
              "      <td>0.355540</td>\n",
              "      <td>0.817552</td>\n",
              "      <td>-1.268521</td>\n",
              "      <td>0.673607</td>\n",
              "    </tr>\n",
              "    <tr>\n",
              "      <th>1</th>\n",
              "      <td>-0.115558</td>\n",
              "      <td>0.428502</td>\n",
              "      <td>0.417687</td>\n",
              "      <td>0.231202</td>\n",
              "      <td>-1.626008</td>\n",
              "      <td>0.504156</td>\n",
              "    </tr>\n",
              "    <tr>\n",
              "      <th>2</th>\n",
              "      <td>-0.489104</td>\n",
              "      <td>0.511869</td>\n",
              "      <td>0.189809</td>\n",
              "      <td>0.641322</td>\n",
              "      <td>-1.365727</td>\n",
              "      <td>0.626984</td>\n",
              "    </tr>\n",
              "    <tr>\n",
              "      <th>3</th>\n",
              "      <td>0.844690</td>\n",
              "      <td>0.767316</td>\n",
              "      <td>0.713105</td>\n",
              "      <td>0.218513</td>\n",
              "      <td>0.083334</td>\n",
              "      <td>1.347752</td>\n",
              "    </tr>\n",
              "    <tr>\n",
              "      <th>4</th>\n",
              "      <td>-0.498619</td>\n",
              "      <td>0.516485</td>\n",
              "      <td>0.190115</td>\n",
              "      <td>0.654782</td>\n",
              "      <td>-1.374738</td>\n",
              "      <td>0.622674</td>\n",
              "    </tr>\n",
              "    <tr>\n",
              "      <th>5</th>\n",
              "      <td>0.846887</td>\n",
              "      <td>0.752883</td>\n",
              "      <td>0.692806</td>\n",
              "      <td>0.282264</td>\n",
              "      <td>0.157954</td>\n",
              "      <td>1.420887</td>\n",
              "    </tr>\n",
              "    <tr>\n",
              "      <th>6</th>\n",
              "      <td>-0.489090</td>\n",
              "      <td>0.511862</td>\n",
              "      <td>0.189809</td>\n",
              "      <td>0.641303</td>\n",
              "      <td>-1.365713</td>\n",
              "      <td>0.626990</td>\n",
              "    </tr>\n",
              "    <tr>\n",
              "      <th>7</th>\n",
              "      <td>-0.072678</td>\n",
              "      <td>0.387290</td>\n",
              "      <td>0.379765</td>\n",
              "      <td>0.195721</td>\n",
              "      <td>-1.589427</td>\n",
              "      <td>0.520788</td>\n",
              "    </tr>\n",
              "    <tr>\n",
              "      <th>8</th>\n",
              "      <td>0.761968</td>\n",
              "      <td>0.650609</td>\n",
              "      <td>0.589734</td>\n",
              "      <td>0.328947</td>\n",
              "      <td>0.246717</td>\n",
              "      <td>1.497492</td>\n",
              "    </tr>\n",
              "    <tr>\n",
              "      <th>9</th>\n",
              "      <td>-0.495437</td>\n",
              "      <td>0.514944</td>\n",
              "      <td>0.190014</td>\n",
              "      <td>0.650264</td>\n",
              "      <td>-1.371752</td>\n",
              "      <td>0.624102</td>\n",
              "    </tr>\n",
              "    <tr>\n",
              "      <th>10</th>\n",
              "      <td>-0.506492</td>\n",
              "      <td>0.520285</td>\n",
              "      <td>0.190362</td>\n",
              "      <td>0.666034</td>\n",
              "      <td>-1.382010</td>\n",
              "      <td>0.619199</td>\n",
              "    </tr>\n",
              "    <tr>\n",
              "      <th>11</th>\n",
              "      <td>0.834288</td>\n",
              "      <td>0.736625</td>\n",
              "      <td>0.676308</td>\n",
              "      <td>0.294919</td>\n",
              "      <td>0.183826</td>\n",
              "      <td>1.444486</td>\n",
              "    </tr>\n",
              "    <tr>\n",
              "      <th>12</th>\n",
              "      <td>-0.493908</td>\n",
              "      <td>0.514203</td>\n",
              "      <td>0.189965</td>\n",
              "      <td>0.648100</td>\n",
              "      <td>-1.370308</td>\n",
              "      <td>0.624793</td>\n",
              "    </tr>\n",
              "    <tr>\n",
              "      <th>13</th>\n",
              "      <td>0.961717</td>\n",
              "      <td>0.876779</td>\n",
              "      <td>0.807193</td>\n",
              "      <td>0.243553</td>\n",
              "      <td>-0.128798</td>\n",
              "      <td>1.093696</td>\n",
              "    </tr>\n",
              "    <tr>\n",
              "      <th>14</th>\n",
              "      <td>-0.501698</td>\n",
              "      <td>0.517974</td>\n",
              "      <td>0.190212</td>\n",
              "      <td>0.659171</td>\n",
              "      <td>-1.377603</td>\n",
              "      <td>0.621305</td>\n",
              "    </tr>\n",
              "    <tr>\n",
              "      <th>15</th>\n",
              "      <td>-0.107374</td>\n",
              "      <td>0.367219</td>\n",
              "      <td>0.339755</td>\n",
              "      <td>0.190740</td>\n",
              "      <td>-1.347891</td>\n",
              "      <td>0.635259</td>\n",
              "    </tr>\n",
              "    <tr>\n",
              "      <th>16</th>\n",
              "      <td>-0.489136</td>\n",
              "      <td>0.511884</td>\n",
              "      <td>0.189810</td>\n",
              "      <td>0.641367</td>\n",
              "      <td>-1.365758</td>\n",
              "      <td>0.626969</td>\n",
              "    </tr>\n",
              "    <tr>\n",
              "      <th>17</th>\n",
              "      <td>-0.506492</td>\n",
              "      <td>0.520285</td>\n",
              "      <td>0.190362</td>\n",
              "      <td>0.666034</td>\n",
              "      <td>-1.382010</td>\n",
              "      <td>0.619199</td>\n",
              "    </tr>\n",
              "    <tr>\n",
              "      <th>18</th>\n",
              "      <td>0.936841</td>\n",
              "      <td>0.851952</td>\n",
              "      <td>0.785599</td>\n",
              "      <td>0.245922</td>\n",
              "      <td>-0.064982</td>\n",
              "      <td>1.178371</td>\n",
              "    </tr>\n",
              "    <tr>\n",
              "      <th>19</th>\n",
              "      <td>-0.510993</td>\n",
              "      <td>0.522449</td>\n",
              "      <td>0.190501</td>\n",
              "      <td>0.672513</td>\n",
              "      <td>-1.386094</td>\n",
              "      <td>0.617248</td>\n",
              "    </tr>\n",
              "    <tr>\n",
              "      <th>20</th>\n",
              "      <td>-0.092923</td>\n",
              "      <td>0.354226</td>\n",
              "      <td>0.329691</td>\n",
              "      <td>0.179858</td>\n",
              "      <td>-1.320541</td>\n",
              "      <td>0.648137</td>\n",
              "    </tr>\n",
              "    <tr>\n",
              "      <th>21</th>\n",
              "      <td>0.846887</td>\n",
              "      <td>0.752883</td>\n",
              "      <td>0.692806</td>\n",
              "      <td>0.282264</td>\n",
              "      <td>0.157954</td>\n",
              "      <td>1.420887</td>\n",
              "    </tr>\n",
              "    <tr>\n",
              "      <th>22</th>\n",
              "      <td>-0.526412</td>\n",
              "      <td>0.365462</td>\n",
              "      <td>0.036119</td>\n",
              "      <td>0.665207</td>\n",
              "      <td>-1.306645</td>\n",
              "      <td>0.655242</td>\n",
              "    </tr>\n",
              "    <tr>\n",
              "      <th>23</th>\n",
              "      <td>-0.115558</td>\n",
              "      <td>0.428502</td>\n",
              "      <td>0.417687</td>\n",
              "      <td>0.231202</td>\n",
              "      <td>-1.626008</td>\n",
              "      <td>0.504156</td>\n",
              "    </tr>\n",
              "    <tr>\n",
              "      <th>24</th>\n",
              "      <td>-0.504908</td>\n",
              "      <td>0.519522</td>\n",
              "      <td>0.190313</td>\n",
              "      <td>0.663763</td>\n",
              "      <td>-1.380561</td>\n",
              "      <td>0.619891</td>\n",
              "    </tr>\n",
              "    <tr>\n",
              "      <th>25</th>\n",
              "      <td>-0.084493</td>\n",
              "      <td>0.451332</td>\n",
              "      <td>0.433480</td>\n",
              "      <td>0.285711</td>\n",
              "      <td>-1.396361</td>\n",
              "      <td>0.612417</td>\n",
              "    </tr>\n",
              "    <tr>\n",
              "      <th>26</th>\n",
              "      <td>0.828355</td>\n",
              "      <td>0.731386</td>\n",
              "      <td>0.671726</td>\n",
              "      <td>0.291427</td>\n",
              "      <td>0.188207</td>\n",
              "      <td>1.448390</td>\n",
              "    </tr>\n",
              "    <tr>\n",
              "      <th>27</th>\n",
              "      <td>-0.543931</td>\n",
              "      <td>0.538106</td>\n",
              "      <td>0.191466</td>\n",
              "      <td>0.720954</td>\n",
              "      <td>-1.414440</td>\n",
              "      <td>0.603721</td>\n",
              "    </tr>\n",
              "    <tr>\n",
              "      <th>28</th>\n",
              "      <td>0.767246</td>\n",
              "      <td>0.649156</td>\n",
              "      <td>0.585820</td>\n",
              "      <td>0.354647</td>\n",
              "      <td>0.247899</td>\n",
              "      <td>1.498404</td>\n",
              "    </tr>\n",
              "    <tr>\n",
              "      <th>29</th>\n",
              "      <td>-0.526812</td>\n",
              "      <td>0.530007</td>\n",
              "      <td>0.190975</td>\n",
              "      <td>0.695553</td>\n",
              "      <td>-1.400039</td>\n",
              "      <td>0.610590</td>\n",
              "    </tr>\n",
              "    <tr>\n",
              "      <th>30</th>\n",
              "      <td>-0.097252</td>\n",
              "      <td>0.385875</td>\n",
              "      <td>0.370447</td>\n",
              "      <td>0.198525</td>\n",
              "      <td>-1.487209</td>\n",
              "      <td>0.569057</td>\n",
              "    </tr>\n",
              "    <tr>\n",
              "      <th>31</th>\n",
              "      <td>-0.506492</td>\n",
              "      <td>0.520285</td>\n",
              "      <td>0.190362</td>\n",
              "      <td>0.666034</td>\n",
              "      <td>-1.382010</td>\n",
              "      <td>0.619199</td>\n",
              "    </tr>\n",
              "    <tr>\n",
              "      <th>32</th>\n",
              "      <td>0.862539</td>\n",
              "      <td>0.759363</td>\n",
              "      <td>0.695065</td>\n",
              "      <td>0.320298</td>\n",
              "      <td>0.168296</td>\n",
              "      <td>1.430424</td>\n",
              "    </tr>\n",
              "    <tr>\n",
              "      <th>33</th>\n",
              "      <td>-0.084493</td>\n",
              "      <td>0.451332</td>\n",
              "      <td>0.433480</td>\n",
              "      <td>0.285711</td>\n",
              "      <td>-1.396361</td>\n",
              "      <td>0.612417</td>\n",
              "    </tr>\n",
              "    <tr>\n",
              "      <th>34</th>\n",
              "      <td>-0.557809</td>\n",
              "      <td>0.544612</td>\n",
              "      <td>0.191849</td>\n",
              "      <td>0.741908</td>\n",
              "      <td>-1.425620</td>\n",
              "      <td>0.598393</td>\n",
              "    </tr>\n",
              "    <tr>\n",
              "      <th>35</th>\n",
              "      <td>-0.449222</td>\n",
              "      <td>0.541308</td>\n",
              "      <td>0.192482</td>\n",
              "      <td>0.772034</td>\n",
              "      <td>-1.161777</td>\n",
              "      <td>0.725327</td>\n",
              "    </tr>\n",
              "    <tr>\n",
              "      <th>36</th>\n",
              "      <td>0.855831</td>\n",
              "      <td>0.756613</td>\n",
              "      <td>0.694119</td>\n",
              "      <td>0.303698</td>\n",
              "      <td>0.164085</td>\n",
              "      <td>1.426559</td>\n",
              "    </tr>\n",
              "    <tr>\n",
              "      <th>37</th>\n",
              "      <td>-0.070356</td>\n",
              "      <td>0.437343</td>\n",
              "      <td>0.420688</td>\n",
              "      <td>0.272575</td>\n",
              "      <td>-1.376582</td>\n",
              "      <td>0.621764</td>\n",
              "    </tr>\n",
              "    <tr>\n",
              "      <th>38</th>\n",
              "      <td>-0.453903</td>\n",
              "      <td>0.543707</td>\n",
              "      <td>0.192637</td>\n",
              "      <td>0.779136</td>\n",
              "      <td>-1.167309</td>\n",
              "      <td>0.722630</td>\n",
              "    </tr>\n",
              "    <tr>\n",
              "      <th>39</th>\n",
              "      <td>0.853595</td>\n",
              "      <td>0.755687</td>\n",
              "      <td>0.693796</td>\n",
              "      <td>0.298264</td>\n",
              "      <td>0.162610</td>\n",
              "      <td>1.425199</td>\n",
              "    </tr>\n",
              "  </tbody>\n",
              "</table>\n",
              "</div>"
            ],
            "text/plain": [
              "        mean  geometric_mean  harmonic_mean  variance  kurtosis  skewness\n",
              "0  -0.459101        0.643851       0.355540  0.817552 -1.268521  0.673607\n",
              "1  -0.115558        0.428502       0.417687  0.231202 -1.626008  0.504156\n",
              "2  -0.489104        0.511869       0.189809  0.641322 -1.365727  0.626984\n",
              "3   0.844690        0.767316       0.713105  0.218513  0.083334  1.347752\n",
              "4  -0.498619        0.516485       0.190115  0.654782 -1.374738  0.622674\n",
              "5   0.846887        0.752883       0.692806  0.282264  0.157954  1.420887\n",
              "6  -0.489090        0.511862       0.189809  0.641303 -1.365713  0.626990\n",
              "7  -0.072678        0.387290       0.379765  0.195721 -1.589427  0.520788\n",
              "8   0.761968        0.650609       0.589734  0.328947  0.246717  1.497492\n",
              "9  -0.495437        0.514944       0.190014  0.650264 -1.371752  0.624102\n",
              "10 -0.506492        0.520285       0.190362  0.666034 -1.382010  0.619199\n",
              "11  0.834288        0.736625       0.676308  0.294919  0.183826  1.444486\n",
              "12 -0.493908        0.514203       0.189965  0.648100 -1.370308  0.624793\n",
              "13  0.961717        0.876779       0.807193  0.243553 -0.128798  1.093696\n",
              "14 -0.501698        0.517974       0.190212  0.659171 -1.377603  0.621305\n",
              "15 -0.107374        0.367219       0.339755  0.190740 -1.347891  0.635259\n",
              "16 -0.489136        0.511884       0.189810  0.641367 -1.365758  0.626969\n",
              "17 -0.506492        0.520285       0.190362  0.666034 -1.382010  0.619199\n",
              "18  0.936841        0.851952       0.785599  0.245922 -0.064982  1.178371\n",
              "19 -0.510993        0.522449       0.190501  0.672513 -1.386094  0.617248\n",
              "20 -0.092923        0.354226       0.329691  0.179858 -1.320541  0.648137\n",
              "21  0.846887        0.752883       0.692806  0.282264  0.157954  1.420887\n",
              "22 -0.526412        0.365462       0.036119  0.665207 -1.306645  0.655242\n",
              "23 -0.115558        0.428502       0.417687  0.231202 -1.626008  0.504156\n",
              "24 -0.504908        0.519522       0.190313  0.663763 -1.380561  0.619891\n",
              "25 -0.084493        0.451332       0.433480  0.285711 -1.396361  0.612417\n",
              "26  0.828355        0.731386       0.671726  0.291427  0.188207  1.448390\n",
              "27 -0.543931        0.538106       0.191466  0.720954 -1.414440  0.603721\n",
              "28  0.767246        0.649156       0.585820  0.354647  0.247899  1.498404\n",
              "29 -0.526812        0.530007       0.190975  0.695553 -1.400039  0.610590\n",
              "30 -0.097252        0.385875       0.370447  0.198525 -1.487209  0.569057\n",
              "31 -0.506492        0.520285       0.190362  0.666034 -1.382010  0.619199\n",
              "32  0.862539        0.759363       0.695065  0.320298  0.168296  1.430424\n",
              "33 -0.084493        0.451332       0.433480  0.285711 -1.396361  0.612417\n",
              "34 -0.557809        0.544612       0.191849  0.741908 -1.425620  0.598393\n",
              "35 -0.449222        0.541308       0.192482  0.772034 -1.161777  0.725327\n",
              "36  0.855831        0.756613       0.694119  0.303698  0.164085  1.426559\n",
              "37 -0.070356        0.437343       0.420688  0.272575 -1.376582  0.621764\n",
              "38 -0.453903        0.543707       0.192637  0.779136 -1.167309  0.722630\n",
              "39  0.853595        0.755687       0.693796  0.298264  0.162610  1.425199"
            ]
          },
          "execution_count": 129,
          "metadata": {},
          "output_type": "execute_result"
        }
      ],
      "source": [
        "\n",
        "ind_var = ['co', 'humidity', 'lpg', 'smoke', 'temp']\n",
        "\n",
        "# new features\n",
        "df['mean'] = df[ind_var].mean(axis=1)\n",
        "df['geometric_mean'] = df[ind_var].abs().apply(sps.gmean, axis=1)\n",
        "df['harmonic_mean'] = df[ind_var].abs().apply(sps.hmean, axis=1)\n",
        "df['variance'] = df[ind_var].var(axis=1)\n",
        "df['kurtosis'] = df[ind_var].apply(sps.kurtosis, axis=1)\n",
        "df['skewness'] = df[ind_var].apply(sps.skew, axis=1)\n",
        "\n",
        "\n",
        "df[['mean', 'geometric_mean', 'harmonic_mean', 'variance', 'kurtosis', 'skewness']].head(40)\n"
      ]
    },
    {
      "cell_type": "markdown",
      "metadata": {
        "id": "E8hZzOSvymHL"
      },
      "source": [
        "# **2. Empirical Risk Minimization and the Law of Large Numbers**"
      ]
    },
    {
      "cell_type": "markdown",
      "metadata": {
        "id": "5YpfhDVMymHM"
      },
      "source": [
        "## Problem 2.1"
      ]
    },
    {
      "cell_type": "markdown",
      "metadata": {
        "id": "1EQWwLbvymHN"
      },
      "source": [
        "### (a)"
      ]
    },
    {
      "cell_type": "code",
      "execution_count": 130,
      "metadata": {
        "id": "2Me2gtgRUxAi"
      },
      "outputs": [
        {
          "name": "stdout",
          "output_type": "stream",
          "text": [
            "[6.         3.5        3.         ... 3.46359272 3.46294629 3.4571    ]\n"
          ]
        }
      ],
      "source": [
        "\n",
        "sample_sizes = np.arange(1, 10001)\n",
        "emp_ave_fair = np.zeros(len(sample_sizes))\n",
        "\n",
        "\n",
        "for n in sample_sizes:\n",
        "    rolls = np.random.choice([1, 2, 3, 4, 5, 6], size=n)\n",
        "    emp_ave_fair[n-1] = np.mean(rolls)\n",
        "\n",
        "print(emp_ave_fair)\n"
      ]
    },
    {
      "cell_type": "markdown",
      "metadata": {
        "id": "T5HoKdioymHN"
      },
      "source": [
        "### (b)"
      ]
    },
    {
      "cell_type": "code",
      "execution_count": 131,
      "metadata": {
        "id": "xUGIEmzYymHN"
      },
      "outputs": [
        {
          "name": "stdout",
          "output_type": "stream",
          "text": [
            "[2.5        0.         0.5        ... 0.03640728 0.03705371 0.0429    ]\n"
          ]
        }
      ],
      "source": [
        "\n",
        "average = (1+2+3+4+5+6) / 6\n",
        "excpt_val_fair = average \n",
        "\n",
        "abs_discrep_fair = np.abs(emp_ave_fair - excpt_val_fair)\n",
        "\n",
        "print(abs_discrep_fair)\n"
      ]
    },
    {
      "cell_type": "markdown",
      "metadata": {
        "id": "TGHAoXfMymHO"
      },
      "source": [
        "### (c)\n",
        "\n"
      ]
    },
    {
      "cell_type": "code",
      "execution_count": 132,
      "metadata": {
        "id": "ItDMYWoFymHO"
      },
      "outputs": [
        {
          "data": {
            "image/png": "[encoded data removed]",
            "text/plain": [
              "<Figure size 1000x600 with 1 Axes>"
            ]
          },
          "metadata": {},
          "output_type": "display_data"
        }
      ],
      "source": [
        "\n",
        "plt.figure(figsize=(10, 6))\n",
        "plt.plot(sample_sizes, emp_ave_fair, label='Empirical average', color='blue')\n",
        "plt.axhline(y=excpt_val_fair, color='red', linestyle='--', label='Expected value (E[D] = 3.5)')\n",
        "plt.title('Empirical average of fair die rolls')\n",
        "plt.xlabel('Sample size (n)')\n",
        "plt.ylabel('Empirical average')\n",
        "plt.legend()\n",
        "plt.grid()\n",
        "plt.show()\n"
      ]
    },
    {
      "cell_type": "markdown",
      "metadata": {
        "id": "eh5_wIm-FErc"
      },
      "source": [
        "From observation of the output graph, it can be stated that as number of samples increases in the process of dice rolling experiment. the empirical average is converging to it's expected value."
      ]
    },
    {
      "cell_type": "markdown",
      "metadata": {
        "id": "7kNl2WpSymHO"
      },
      "source": [
        "### (d)"
      ]
    },
    {
      "cell_type": "code",
      "execution_count": 133,
      "metadata": {
        "id": "AblNbsncymHO"
      },
      "outputs": [
        {
          "data": {
            "image/png": "[encoded data removed]",
            "text/plain": [
              "<Figure size 1000x600 with 1 Axes>"
            ]
          },
          "metadata": {},
          "output_type": "display_data"
        }
      ],
      "source": [
        "\n",
        "plt.figure(figsize=(10, 6))\n",
        "plt.plot(sample_sizes, abs_discrep_fair, label='Absolute discrepancy', color='orange')\n",
        "plt.axhline(y=0, color='red', linestyle='--', label='Zero discrepancy line')\n",
        "plt.title('Absolute discrepancy of empirical average for fair die rolls')\n",
        "plt.xlabel('Sample size (n)')\n",
        "plt.ylabel('Absolute discrepancy')\n",
        "plt.legend()\n",
        "plt.grid()\n",
        "plt.show()\n"
      ]
    },
    {
      "cell_type": "markdown",
      "metadata": {
        "id": "rA5ARwb5FM3y"
      },
      "source": [
        "At the starting of the experiment with the less data absolute discrepancy of empirical average was very large. as experiment continues with increasing samples discrepancy decreases."
      ]
    },
    {
      "cell_type": "markdown",
      "metadata": {
        "id": "FpQWnOOpymHT"
      },
      "source": [
        "## Problem 2.2"
      ]
    },
    {
      "cell_type": "markdown",
      "metadata": {
        "id": "eo0-9wXTVIKh"
      },
      "source": [
        "### (a)"
      ]
    },
    {
      "cell_type": "code",
      "execution_count": 134,
      "metadata": {
        "id": "QmAtpjMiymHU"
      },
      "outputs": [
        {
          "name": "stdout",
          "output_type": "stream",
          "text": [
            "[6.         3.         5.66666667 ... 4.4964993  4.51005101 4.5029    ]\n"
          ]
        }
      ],
      "source": [
        "\n",
        "probab = [0.1, 0.1, 0.1, 0.1, 0.1, 0.5]\n",
        "\n",
        "emp_ave_unfair = np.zeros(len(sample_sizes))\n",
        "\n",
        "for n in sample_sizes:\n",
        "    rolls = np.random.choice([1, 2, 3, 4, 5, 6], size=n, p=probab)\n",
        "    emp_ave_unfair[n-1] = np.mean(rolls)\n",
        "\n",
        "print(emp_ave_unfair)"
      ]
    },
    {
      "cell_type": "markdown",
      "metadata": {
        "id": "6nTycRr4V8GJ"
      },
      "source": [
        "### (b)"
      ]
    },
    {
      "cell_type": "code",
      "execution_count": 135,
      "metadata": {
        "id": "EdNv5GgGFRIo"
      },
      "outputs": [
        {
          "name": "stdout",
          "output_type": "stream",
          "text": [
            "4.5\n",
            "[1.5        1.5        1.16666667 ... 0.0035007  0.01005101 0.0029    ]\n"
          ]
        }
      ],
      "source": [
        "\n",
        "unfairave = (1 * 0.1 + 2 * 0.1 + 3 * 0.1 + 4 * 0.1 + 5 * 0.1 + 6 * 0.5)  # = 4.0\n",
        "excpt_val_unfair = unfairave \n",
        "print(unfairave)\n",
        "\n",
        "\n",
        "abs_discrep_unfair = np.abs(emp_ave_unfair - excpt_val_unfair)\n",
        "\n",
        "print(abs_discrep_unfair)"
      ]
    },
    {
      "cell_type": "markdown",
      "metadata": {
        "id": "Pw5kjI4GWLsL"
      },
      "source": [
        "### (c)"
      ]
    },
    {
      "cell_type": "code",
      "execution_count": 136,
      "metadata": {
        "id": "riHIp_QVWSh4"
      },
      "outputs": [
        {
          "data": {
            "image/png": "[encoded data removed]",
            "text/plain": [
              "<Figure size 1000x600 with 1 Axes>"
            ]
          },
          "metadata": {},
          "output_type": "display_data"
        }
      ],
      "source": [
        "\n",
        "plt.figure(figsize=(10, 6))\n",
        "plt.plot(sample_sizes, emp_ave_unfair, label='Empirical average', color='blue')\n",
        "plt.axhline(y=excpt_val_unfair, color='red', linestyle='--', label='Expected value (E[D] = 4.5)')\n",
        "plt.title('Empirical average of unfair die rolls')\n",
        "plt.xlabel('Sample size (n)')\n",
        "plt.ylabel('Empirical average')\n",
        "plt.legend()\n",
        "plt.grid()\n",
        "plt.show()"
      ]
    },
    {
      "cell_type": "markdown",
      "metadata": {
        "id": "zRXfaZTiWS9K"
      },
      "source": [
        "From the graph, it can be stated that empirical average for unfair die rolling experiment also applies same law of large numbers principle where larger sample sizes provide better approximations and converges to true expected value.The law of large numbers is useful to minimise difference between empirical risk and expected value."
      ]
    },
    {
      "cell_type": "markdown",
      "metadata": {
        "id": "6ACrqDnpWkJu"
      },
      "source": [
        "### (d)"
      ]
    },
    {
      "cell_type": "code",
      "execution_count": 137,
      "metadata": {
        "id": "GhlnUavVWkgc"
      },
      "outputs": [
        {
          "data": {
            "image/png": "[encoded data removed]",
            "text/plain": [
              "<Figure size 1200x600 with 1 Axes>"
            ]
          },
          "metadata": {},
          "output_type": "display_data"
        }
      ],
      "source": [
        "\n",
        "plt.figure(figsize=(12, 6))\n",
        "plt.plot(sample_sizes, abs_discrep_unfair, label='Absolute discrepancy', color='orange')\n",
        "plt.axhline(y=0, color='red', linestyle='--', label='Zero discrepancy line')\n",
        "plt.title('Absolute discrepancy of empirical average for unfair die rolls')\n",
        "plt.xlabel('Sample size (n)')\n",
        "plt.ylabel('Absolute discrepancy')\n",
        "plt.legend()\n",
        "plt.grid()\n",
        "plt.show()\n"
      ]
    },
    {
      "cell_type": "markdown",
      "metadata": {
        "id": "GSS1rciWFowB"
      },
      "source": [
        "same as the fair die rolling experiment in unfair rolling experiment absolute discrepancy decreases when large number of samples have been taken to perform experiment."
      ]
    }
  ],
  "metadata": {
    "colab": {
      "provenance": []
    },
    "kernelspec": {
      "display_name": "base",
      "language": "python",
      "name": "python3"
    },
    "language_info": {
      "codemirror_mode": {
        "name": "ipython",
        "version": 3
      },
      "file_extension": ".py",
      "mimetype": "text/x-python",
      "name": "python",
      "nbconvert_exporter": "python",
      "pygments_lexer": "ipython3",
      "version": "3.12.4"
    }
  },
  "nbformat": 4,
  "nbformat_minor": 0
}
